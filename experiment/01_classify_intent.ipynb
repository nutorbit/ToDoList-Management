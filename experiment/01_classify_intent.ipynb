{
 "cells": [
  {
   "cell_type": "code",
   "execution_count": 1,
   "metadata": {
    "collapsed": true,
    "pycharm": {
     "is_executing": false
    }
   },
   "outputs": [
    {
     "name": "stderr",
     "text": [
      "/home/nutorbit/miniconda3/envs/chatbot/lib/python3.7/site-packages/sklearn/externals/joblib/__init__.py:15: FutureWarning: sklearn.externals.joblib is deprecated in 0.21 and will be removed in 0.23. Please import this functionality directly from joblib, which can be installed with: pip install joblib. If this warning is raised when loading pickled models, you may need to re-serialize those models with scikit-learn 0.21+.\n",
      "  warnings.warn(msg, category=FutureWarning)\n"
     ],
     "output_type": "stream"
    }
   ],
   "source": [
    "import pandas as pd\n",
    "import dill\n",
    "import pickle\n",
    "\n",
    "from pythainlp import word_tokenize\n",
    "from sklearn.feature_extraction.text import CountVectorizer\n",
    "from sklearn.model_selection import train_test_split\n",
    "from xgboost import XGBClassifier\n",
    "from sklearn.externals import joblib"
   ]
  },
  {
   "cell_type": "code",
   "execution_count": 2,
   "outputs": [
    {
     "data": {
      "text/plain": "                    text        label\n0            มีงานต้องทำ   createTask\n1       มีการบ้านต้องส่ง   createTask\n2                  มีงาน   createTask\n3             เตือนหน่อย   createTask\n4                  เตือน   createTask\n5              ต้องทำงาน   createTask\n6      ต้องทำยังไม่ได้ทำ   createTask\n7          มีงานอะไรบ้าง  displayTask\n8        งานอะไรยังไม่ทำ  displayTask\n9       เหลืองานอะไรบ้าง  displayTask\n10  มีอะไรที่ยังไม่ได้ทำ  displayTask\n11          มีอะไรต้องทำ  displayTask\n12         เหลืออะไรบ้าง  displayTask\n13    เหลืองานมีอะไรบ้าง  displayTask\n14             เหลืออะไร  displayTask\n15       มีงานอะไรต้องทำ  displayTask\n16          งานเสร็จแล้ว    clearTask\n17             เสร็จแล้ว    clearTask\n18             เรียบร้อย    clearTask\n19               เสร็จละ    clearTask\n20                 เสร็จ    clearTask\n21               หมดแล้ว    clearTask",
      "text/html": "<div>\n<style scoped>\n    .dataframe tbody tr th:only-of-type {\n        vertical-align: middle;\n    }\n\n    .dataframe tbody tr th {\n        vertical-align: top;\n    }\n\n    .dataframe thead th {\n        text-align: right;\n    }\n</style>\n<table border=\"1\" class=\"dataframe\">\n  <thead>\n    <tr style=\"text-align: right;\">\n      <th></th>\n      <th>text</th>\n      <th>label</th>\n    </tr>\n  </thead>\n  <tbody>\n    <tr>\n      <th>0</th>\n      <td>มีงานต้องทำ</td>\n      <td>createTask</td>\n    </tr>\n    <tr>\n      <th>1</th>\n      <td>มีการบ้านต้องส่ง</td>\n      <td>createTask</td>\n    </tr>\n    <tr>\n      <th>2</th>\n      <td>มีงาน</td>\n      <td>createTask</td>\n    </tr>\n    <tr>\n      <th>3</th>\n      <td>เตือนหน่อย</td>\n      <td>createTask</td>\n    </tr>\n    <tr>\n      <th>4</th>\n      <td>เตือน</td>\n      <td>createTask</td>\n    </tr>\n    <tr>\n      <th>5</th>\n      <td>ต้องทำงาน</td>\n      <td>createTask</td>\n    </tr>\n    <tr>\n      <th>6</th>\n      <td>ต้องทำยังไม่ได้ทำ</td>\n      <td>createTask</td>\n    </tr>\n    <tr>\n      <th>7</th>\n      <td>มีงานอะไรบ้าง</td>\n      <td>displayTask</td>\n    </tr>\n    <tr>\n      <th>8</th>\n      <td>งานอะไรยังไม่ทำ</td>\n      <td>displayTask</td>\n    </tr>\n    <tr>\n      <th>9</th>\n      <td>เหลืองานอะไรบ้าง</td>\n      <td>displayTask</td>\n    </tr>\n    <tr>\n      <th>10</th>\n      <td>มีอะไรที่ยังไม่ได้ทำ</td>\n      <td>displayTask</td>\n    </tr>\n    <tr>\n      <th>11</th>\n      <td>มีอะไรต้องทำ</td>\n      <td>displayTask</td>\n    </tr>\n    <tr>\n      <th>12</th>\n      <td>เหลืออะไรบ้าง</td>\n      <td>displayTask</td>\n    </tr>\n    <tr>\n      <th>13</th>\n      <td>เหลืองานมีอะไรบ้าง</td>\n      <td>displayTask</td>\n    </tr>\n    <tr>\n      <th>14</th>\n      <td>เหลืออะไร</td>\n      <td>displayTask</td>\n    </tr>\n    <tr>\n      <th>15</th>\n      <td>มีงานอะไรต้องทำ</td>\n      <td>displayTask</td>\n    </tr>\n    <tr>\n      <th>16</th>\n      <td>งานเสร็จแล้ว</td>\n      <td>clearTask</td>\n    </tr>\n    <tr>\n      <th>17</th>\n      <td>เสร็จแล้ว</td>\n      <td>clearTask</td>\n    </tr>\n    <tr>\n      <th>18</th>\n      <td>เรียบร้อย</td>\n      <td>clearTask</td>\n    </tr>\n    <tr>\n      <th>19</th>\n      <td>เสร็จละ</td>\n      <td>clearTask</td>\n    </tr>\n    <tr>\n      <th>20</th>\n      <td>เสร็จ</td>\n      <td>clearTask</td>\n    </tr>\n    <tr>\n      <th>21</th>\n      <td>หมดแล้ว</td>\n      <td>clearTask</td>\n    </tr>\n  </tbody>\n</table>\n</div>"
     },
     "metadata": {},
     "output_type": "execute_result",
     "execution_count": 2
    }
   ],
   "source": [
    "df = pd.read_csv('./data/00_intent.csv')\n",
    "df"
   ],
   "metadata": {
    "collapsed": false,
    "pycharm": {
     "name": "#%%\n",
     "is_executing": false
    }
   }
  },
  {
   "cell_type": "code",
   "execution_count": 3,
   "outputs": [
    {
     "data": {
      "text/plain": "                          text        label\n0               มี งาน ต้อง ทำ   createTask\n1          มี การบ้าน ต้อง ส่ง   createTask\n2                       มี งาน   createTask\n3                  เตือน หน่อย   createTask\n4                        เตือน   createTask\n5                   ต้อง ทำงาน   createTask\n6       ต้อง ทำ ยัง ไม่ ได้ ทำ   createTask\n7             มี งาน อะไร บ้าง  displayTask\n8          งาน อะไร ยัง ไม่ ทำ  displayTask\n9          เหลือ งาน อะไร บ้าง  displayTask\n10  มี อะไร ที่ ยัง ไม่ ได้ ทำ  displayTask\n11             มี อะไร ต้อง ทำ  displayTask\n12             เหลือ อะไร บ้าง  displayTask\n13      เหลือ งาน มี อะไร บ้าง  displayTask\n14                  เหลือ อะไร  displayTask\n15         มี งาน อะไร ต้อง ทำ  displayTask\n16              งาน เสร็จ แล้ว    clearTask\n17                  เสร็จ แล้ว    clearTask\n18                   เรียบร้อย    clearTask\n19                    เสร็จ ละ    clearTask\n20                       เสร็จ    clearTask\n21                    หมด แล้ว    clearTask",
      "text/html": "<div>\n<style scoped>\n    .dataframe tbody tr th:only-of-type {\n        vertical-align: middle;\n    }\n\n    .dataframe tbody tr th {\n        vertical-align: top;\n    }\n\n    .dataframe thead th {\n        text-align: right;\n    }\n</style>\n<table border=\"1\" class=\"dataframe\">\n  <thead>\n    <tr style=\"text-align: right;\">\n      <th></th>\n      <th>text</th>\n      <th>label</th>\n    </tr>\n  </thead>\n  <tbody>\n    <tr>\n      <th>0</th>\n      <td>มี งาน ต้อง ทำ</td>\n      <td>createTask</td>\n    </tr>\n    <tr>\n      <th>1</th>\n      <td>มี การบ้าน ต้อง ส่ง</td>\n      <td>createTask</td>\n    </tr>\n    <tr>\n      <th>2</th>\n      <td>มี งาน</td>\n      <td>createTask</td>\n    </tr>\n    <tr>\n      <th>3</th>\n      <td>เตือน หน่อย</td>\n      <td>createTask</td>\n    </tr>\n    <tr>\n      <th>4</th>\n      <td>เตือน</td>\n      <td>createTask</td>\n    </tr>\n    <tr>\n      <th>5</th>\n      <td>ต้อง ทำงาน</td>\n      <td>createTask</td>\n    </tr>\n    <tr>\n      <th>6</th>\n      <td>ต้อง ทำ ยัง ไม่ ได้ ทำ</td>\n      <td>createTask</td>\n    </tr>\n    <tr>\n      <th>7</th>\n      <td>มี งาน อะไร บ้าง</td>\n      <td>displayTask</td>\n    </tr>\n    <tr>\n      <th>8</th>\n      <td>งาน อะไร ยัง ไม่ ทำ</td>\n      <td>displayTask</td>\n    </tr>\n    <tr>\n      <th>9</th>\n      <td>เหลือ งาน อะไร บ้าง</td>\n      <td>displayTask</td>\n    </tr>\n    <tr>\n      <th>10</th>\n      <td>มี อะไร ที่ ยัง ไม่ ได้ ทำ</td>\n      <td>displayTask</td>\n    </tr>\n    <tr>\n      <th>11</th>\n      <td>มี อะไร ต้อง ทำ</td>\n      <td>displayTask</td>\n    </tr>\n    <tr>\n      <th>12</th>\n      <td>เหลือ อะไร บ้าง</td>\n      <td>displayTask</td>\n    </tr>\n    <tr>\n      <th>13</th>\n      <td>เหลือ งาน มี อะไร บ้าง</td>\n      <td>displayTask</td>\n    </tr>\n    <tr>\n      <th>14</th>\n      <td>เหลือ อะไร</td>\n      <td>displayTask</td>\n    </tr>\n    <tr>\n      <th>15</th>\n      <td>มี งาน อะไร ต้อง ทำ</td>\n      <td>displayTask</td>\n    </tr>\n    <tr>\n      <th>16</th>\n      <td>งาน เสร็จ แล้ว</td>\n      <td>clearTask</td>\n    </tr>\n    <tr>\n      <th>17</th>\n      <td>เสร็จ แล้ว</td>\n      <td>clearTask</td>\n    </tr>\n    <tr>\n      <th>18</th>\n      <td>เรียบร้อย</td>\n      <td>clearTask</td>\n    </tr>\n    <tr>\n      <th>19</th>\n      <td>เสร็จ ละ</td>\n      <td>clearTask</td>\n    </tr>\n    <tr>\n      <th>20</th>\n      <td>เสร็จ</td>\n      <td>clearTask</td>\n    </tr>\n    <tr>\n      <th>21</th>\n      <td>หมด แล้ว</td>\n      <td>clearTask</td>\n    </tr>\n  </tbody>\n</table>\n</div>"
     },
     "metadata": {},
     "output_type": "execute_result",
     "execution_count": 3
    }
   ],
   "source": [
    "df['text'] = df['text'].apply(lambda x: ' '.join(word_tokenize(x)))\n",
    "df"
   ],
   "metadata": {
    "collapsed": false,
    "pycharm": {
     "name": "#%%\n",
     "is_executing": false
    }
   }
  },
  {
   "cell_type": "code",
   "execution_count": 4,
   "outputs": [
    {
     "data": {
      "text/plain": "   text_0  text_1  text_2  text_3  text_4  text_5  text_6  text_7  text_8  \\\n0       0       0       1       1       0       0       1       0       0   \n1       1       1       0       0       0       0       0       0       0   \n2       0       0       1       0       0       0       0       0       0   \n3       0       0       0       0       0       0       0       0       0   \n4       0       0       0       0       0       0       0       0       0   \n\n   text_9  ...  text_35  text_36  text_37  text_38  text_39  text_40  text_41  \\\n0       0  ...        0        0        0        0        0        0        0   \n1       0  ...        0        0        0        0        0        0        0   \n2       0  ...        0        0        0        0        0        0        0   \n3       0  ...        0        0        0        0        0        0        0   \n4       0  ...        0        0        0        0        0        0        0   \n\n   text_42  text_43  text_44  \n0        0        0        0  \n1        0        0        0  \n2        0        0        0  \n3        0        0        0  \n4        0        0        0  \n\n[5 rows x 45 columns]",
      "text/html": "<div>\n<style scoped>\n    .dataframe tbody tr th:only-of-type {\n        vertical-align: middle;\n    }\n\n    .dataframe tbody tr th {\n        vertical-align: top;\n    }\n\n    .dataframe thead th {\n        text-align: right;\n    }\n</style>\n<table border=\"1\" class=\"dataframe\">\n  <thead>\n    <tr style=\"text-align: right;\">\n      <th></th>\n      <th>text_0</th>\n      <th>text_1</th>\n      <th>text_2</th>\n      <th>text_3</th>\n      <th>text_4</th>\n      <th>text_5</th>\n      <th>text_6</th>\n      <th>text_7</th>\n      <th>text_8</th>\n      <th>text_9</th>\n      <th>...</th>\n      <th>text_35</th>\n      <th>text_36</th>\n      <th>text_37</th>\n      <th>text_38</th>\n      <th>text_39</th>\n      <th>text_40</th>\n      <th>text_41</th>\n      <th>text_42</th>\n      <th>text_43</th>\n      <th>text_44</th>\n    </tr>\n  </thead>\n  <tbody>\n    <tr>\n      <th>0</th>\n      <td>0</td>\n      <td>0</td>\n      <td>1</td>\n      <td>1</td>\n      <td>0</td>\n      <td>0</td>\n      <td>1</td>\n      <td>0</td>\n      <td>0</td>\n      <td>0</td>\n      <td>...</td>\n      <td>0</td>\n      <td>0</td>\n      <td>0</td>\n      <td>0</td>\n      <td>0</td>\n      <td>0</td>\n      <td>0</td>\n      <td>0</td>\n      <td>0</td>\n      <td>0</td>\n    </tr>\n    <tr>\n      <th>1</th>\n      <td>1</td>\n      <td>1</td>\n      <td>0</td>\n      <td>0</td>\n      <td>0</td>\n      <td>0</td>\n      <td>0</td>\n      <td>0</td>\n      <td>0</td>\n      <td>0</td>\n      <td>...</td>\n      <td>0</td>\n      <td>0</td>\n      <td>0</td>\n      <td>0</td>\n      <td>0</td>\n      <td>0</td>\n      <td>0</td>\n      <td>0</td>\n      <td>0</td>\n      <td>0</td>\n    </tr>\n    <tr>\n      <th>2</th>\n      <td>0</td>\n      <td>0</td>\n      <td>1</td>\n      <td>0</td>\n      <td>0</td>\n      <td>0</td>\n      <td>0</td>\n      <td>0</td>\n      <td>0</td>\n      <td>0</td>\n      <td>...</td>\n      <td>0</td>\n      <td>0</td>\n      <td>0</td>\n      <td>0</td>\n      <td>0</td>\n      <td>0</td>\n      <td>0</td>\n      <td>0</td>\n      <td>0</td>\n      <td>0</td>\n    </tr>\n    <tr>\n      <th>3</th>\n      <td>0</td>\n      <td>0</td>\n      <td>0</td>\n      <td>0</td>\n      <td>0</td>\n      <td>0</td>\n      <td>0</td>\n      <td>0</td>\n      <td>0</td>\n      <td>0</td>\n      <td>...</td>\n      <td>0</td>\n      <td>0</td>\n      <td>0</td>\n      <td>0</td>\n      <td>0</td>\n      <td>0</td>\n      <td>0</td>\n      <td>0</td>\n      <td>0</td>\n      <td>0</td>\n    </tr>\n    <tr>\n      <th>4</th>\n      <td>0</td>\n      <td>0</td>\n      <td>0</td>\n      <td>0</td>\n      <td>0</td>\n      <td>0</td>\n      <td>0</td>\n      <td>0</td>\n      <td>0</td>\n      <td>0</td>\n      <td>...</td>\n      <td>0</td>\n      <td>0</td>\n      <td>0</td>\n      <td>0</td>\n      <td>0</td>\n      <td>0</td>\n      <td>0</td>\n      <td>0</td>\n      <td>0</td>\n      <td>0</td>\n    </tr>\n  </tbody>\n</table>\n<p>5 rows × 45 columns</p>\n</div>"
     },
     "metadata": {},
     "output_type": "execute_result",
     "execution_count": 4
    }
   ],
   "source": [
    "c_vectorizer = CountVectorizer(lambda x: x.split(' '), ngram_range=(1,2))\n",
    "text_feature = c_vectorizer.fit_transform(df['text']).todense()\n",
    "df_text_feature = pd.DataFrame(text_feature,\n",
    "                               columns=list(map(lambda x: f'text_{x}', range(text_feature.shape[1]))))\n",
    "df_text_feature.head()"
   ],
   "metadata": {
    "collapsed": false,
    "pycharm": {
     "name": "#%%\n",
     "is_executing": false
    }
   }
  },
  {
   "cell_type": "code",
   "execution_count": 5,
   "outputs": [
    {
     "data": {
      "text/plain": "        label  text_0  text_1  text_2  text_3  text_4  text_5  text_6  text_7  \\\n0  createTask       0       0       1       1       0       0       1       0   \n1  createTask       1       1       0       0       0       0       0       0   \n2  createTask       0       0       1       0       0       0       0       0   \n3  createTask       0       0       0       0       0       0       0       0   \n4  createTask       0       0       0       0       0       0       0       0   \n\n   text_8  ...  text_35  text_36  text_37  text_38  text_39  text_40  text_41  \\\n0       0  ...        0        0        0        0        0        0        0   \n1       0  ...        0        0        0        0        0        0        0   \n2       0  ...        0        0        0        0        0        0        0   \n3       0  ...        0        0        0        0        0        0        0   \n4       0  ...        0        0        0        0        0        0        0   \n\n   text_42  text_43  text_44  \n0        0        0        0  \n1        0        0        0  \n2        0        0        0  \n3        0        0        0  \n4        0        0        0  \n\n[5 rows x 46 columns]",
      "text/html": "<div>\n<style scoped>\n    .dataframe tbody tr th:only-of-type {\n        vertical-align: middle;\n    }\n\n    .dataframe tbody tr th {\n        vertical-align: top;\n    }\n\n    .dataframe thead th {\n        text-align: right;\n    }\n</style>\n<table border=\"1\" class=\"dataframe\">\n  <thead>\n    <tr style=\"text-align: right;\">\n      <th></th>\n      <th>label</th>\n      <th>text_0</th>\n      <th>text_1</th>\n      <th>text_2</th>\n      <th>text_3</th>\n      <th>text_4</th>\n      <th>text_5</th>\n      <th>text_6</th>\n      <th>text_7</th>\n      <th>text_8</th>\n      <th>...</th>\n      <th>text_35</th>\n      <th>text_36</th>\n      <th>text_37</th>\n      <th>text_38</th>\n      <th>text_39</th>\n      <th>text_40</th>\n      <th>text_41</th>\n      <th>text_42</th>\n      <th>text_43</th>\n      <th>text_44</th>\n    </tr>\n  </thead>\n  <tbody>\n    <tr>\n      <th>0</th>\n      <td>createTask</td>\n      <td>0</td>\n      <td>0</td>\n      <td>1</td>\n      <td>1</td>\n      <td>0</td>\n      <td>0</td>\n      <td>1</td>\n      <td>0</td>\n      <td>0</td>\n      <td>...</td>\n      <td>0</td>\n      <td>0</td>\n      <td>0</td>\n      <td>0</td>\n      <td>0</td>\n      <td>0</td>\n      <td>0</td>\n      <td>0</td>\n      <td>0</td>\n      <td>0</td>\n    </tr>\n    <tr>\n      <th>1</th>\n      <td>createTask</td>\n      <td>1</td>\n      <td>1</td>\n      <td>0</td>\n      <td>0</td>\n      <td>0</td>\n      <td>0</td>\n      <td>0</td>\n      <td>0</td>\n      <td>0</td>\n      <td>...</td>\n      <td>0</td>\n      <td>0</td>\n      <td>0</td>\n      <td>0</td>\n      <td>0</td>\n      <td>0</td>\n      <td>0</td>\n      <td>0</td>\n      <td>0</td>\n      <td>0</td>\n    </tr>\n    <tr>\n      <th>2</th>\n      <td>createTask</td>\n      <td>0</td>\n      <td>0</td>\n      <td>1</td>\n      <td>0</td>\n      <td>0</td>\n      <td>0</td>\n      <td>0</td>\n      <td>0</td>\n      <td>0</td>\n      <td>...</td>\n      <td>0</td>\n      <td>0</td>\n      <td>0</td>\n      <td>0</td>\n      <td>0</td>\n      <td>0</td>\n      <td>0</td>\n      <td>0</td>\n      <td>0</td>\n      <td>0</td>\n    </tr>\n    <tr>\n      <th>3</th>\n      <td>createTask</td>\n      <td>0</td>\n      <td>0</td>\n      <td>0</td>\n      <td>0</td>\n      <td>0</td>\n      <td>0</td>\n      <td>0</td>\n      <td>0</td>\n      <td>0</td>\n      <td>...</td>\n      <td>0</td>\n      <td>0</td>\n      <td>0</td>\n      <td>0</td>\n      <td>0</td>\n      <td>0</td>\n      <td>0</td>\n      <td>0</td>\n      <td>0</td>\n      <td>0</td>\n    </tr>\n    <tr>\n      <th>4</th>\n      <td>createTask</td>\n      <td>0</td>\n      <td>0</td>\n      <td>0</td>\n      <td>0</td>\n      <td>0</td>\n      <td>0</td>\n      <td>0</td>\n      <td>0</td>\n      <td>0</td>\n      <td>...</td>\n      <td>0</td>\n      <td>0</td>\n      <td>0</td>\n      <td>0</td>\n      <td>0</td>\n      <td>0</td>\n      <td>0</td>\n      <td>0</td>\n      <td>0</td>\n      <td>0</td>\n    </tr>\n  </tbody>\n</table>\n<p>5 rows × 46 columns</p>\n</div>"
     },
     "metadata": {},
     "output_type": "execute_result",
     "execution_count": 5
    }
   ],
   "source": [
    "df_vectorize = pd.concat(\n",
    "    [df, df_text_feature],\n",
    "    axis=1\n",
    ").drop('text', axis=1)\n",
    "df_vectorize.head()"
   ],
   "metadata": {
    "collapsed": false,
    "pycharm": {
     "name": "#%%\n",
     "is_executing": false
    }
   }
  },
  {
   "cell_type": "code",
   "execution_count": 6,
   "outputs": [],
   "source": [
    "train, test = train_test_split(df_vectorize, test_size=0.2, random_state=10)"
   ],
   "metadata": {
    "collapsed": false,
    "pycharm": {
     "name": "#%%\n",
     "is_executing": false
    }
   }
  },
  {
   "cell_type": "code",
   "execution_count": 7,
   "outputs": [
    {
     "data": {
      "text/plain": "XGBClassifier(base_score=0.5, booster=None, colsample_bylevel=1,\n              colsample_bynode=1, colsample_bytree=1, gamma=0, gpu_id=-1,\n              importance_type='gain', interaction_constraints=None,\n              learning_rate=0.300000012, max_delta_step=0, max_depth=6,\n              min_child_weight=1, missing=nan, monotone_constraints=None,\n              n_estimators=100, n_jobs=0, num_parallel_tree=1,\n              objective='multi:softprob', random_state=0, reg_alpha=0,\n              reg_lambda=1, scale_pos_weight=None, subsample=1,\n              tree_method=None, validate_parameters=False, verbosity=None)"
     },
     "metadata": {},
     "output_type": "execute_result",
     "execution_count": 7
    }
   ],
   "source": [
    "model = XGBClassifier()\n",
    "model.fit(train.drop('label', axis=1), train['label'])"
   ],
   "metadata": {
    "collapsed": false,
    "pycharm": {
     "name": "#%%\n",
     "is_executing": false
    }
   }
  },
  {
   "cell_type": "code",
   "execution_count": 8,
   "outputs": [
    {
     "data": {
      "text/plain": "1.0"
     },
     "metadata": {},
     "output_type": "execute_result",
     "execution_count": 8
    }
   ],
   "source": [
    "model.score(test.drop('label', axis=1), test['label'])"
   ],
   "metadata": {
    "collapsed": false,
    "pycharm": {
     "name": "#%%\n",
     "is_executing": false
    }
   }
  },
  {
   "cell_type": "code",
   "execution_count": 9,
   "outputs": [
    {
     "data": {
      "text/plain": "          label  text_0  text_1  text_2  text_3  text_4  text_5  text_6  \\\n14  displayTask       0       0       0       0       0       0       0   \n5    createTask       0       0       0       0       0       0       0   \n2    createTask       0       0       1       0       0       0       0   \n11  displayTask       0       0       0       0       0       0       1   \n7   displayTask       0       0       1       0       1       0       0   \n\n    text_7  text_8  ...  text_35  text_36  text_37  text_38  text_39  text_40  \\\n14       0       0  ...        0        1        0        1        0        0   \n5        0       1  ...        0        0        0        0        0        0   \n2        0       0  ...        0        0        0        0        0        0   \n11       0       0  ...        0        0        0        0        0        0   \n7        0       0  ...        0        0        0        0        0        0   \n\n    text_41  text_42  text_43  text_44  \n14        0        0        0        0  \n5         0        0        0        0  \n2         0        0        0        0  \n11        0        0        0        0  \n7         0        0        0        0  \n\n[5 rows x 46 columns]",
      "text/html": "<div>\n<style scoped>\n    .dataframe tbody tr th:only-of-type {\n        vertical-align: middle;\n    }\n\n    .dataframe tbody tr th {\n        vertical-align: top;\n    }\n\n    .dataframe thead th {\n        text-align: right;\n    }\n</style>\n<table border=\"1\" class=\"dataframe\">\n  <thead>\n    <tr style=\"text-align: right;\">\n      <th></th>\n      <th>label</th>\n      <th>text_0</th>\n      <th>text_1</th>\n      <th>text_2</th>\n      <th>text_3</th>\n      <th>text_4</th>\n      <th>text_5</th>\n      <th>text_6</th>\n      <th>text_7</th>\n      <th>text_8</th>\n      <th>...</th>\n      <th>text_35</th>\n      <th>text_36</th>\n      <th>text_37</th>\n      <th>text_38</th>\n      <th>text_39</th>\n      <th>text_40</th>\n      <th>text_41</th>\n      <th>text_42</th>\n      <th>text_43</th>\n      <th>text_44</th>\n    </tr>\n  </thead>\n  <tbody>\n    <tr>\n      <th>14</th>\n      <td>displayTask</td>\n      <td>0</td>\n      <td>0</td>\n      <td>0</td>\n      <td>0</td>\n      <td>0</td>\n      <td>0</td>\n      <td>0</td>\n      <td>0</td>\n      <td>0</td>\n      <td>...</td>\n      <td>0</td>\n      <td>1</td>\n      <td>0</td>\n      <td>1</td>\n      <td>0</td>\n      <td>0</td>\n      <td>0</td>\n      <td>0</td>\n      <td>0</td>\n      <td>0</td>\n    </tr>\n    <tr>\n      <th>5</th>\n      <td>createTask</td>\n      <td>0</td>\n      <td>0</td>\n      <td>0</td>\n      <td>0</td>\n      <td>0</td>\n      <td>0</td>\n      <td>0</td>\n      <td>0</td>\n      <td>1</td>\n      <td>...</td>\n      <td>0</td>\n      <td>0</td>\n      <td>0</td>\n      <td>0</td>\n      <td>0</td>\n      <td>0</td>\n      <td>0</td>\n      <td>0</td>\n      <td>0</td>\n      <td>0</td>\n    </tr>\n    <tr>\n      <th>2</th>\n      <td>createTask</td>\n      <td>0</td>\n      <td>0</td>\n      <td>1</td>\n      <td>0</td>\n      <td>0</td>\n      <td>0</td>\n      <td>0</td>\n      <td>0</td>\n      <td>0</td>\n      <td>...</td>\n      <td>0</td>\n      <td>0</td>\n      <td>0</td>\n      <td>0</td>\n      <td>0</td>\n      <td>0</td>\n      <td>0</td>\n      <td>0</td>\n      <td>0</td>\n      <td>0</td>\n    </tr>\n    <tr>\n      <th>11</th>\n      <td>displayTask</td>\n      <td>0</td>\n      <td>0</td>\n      <td>0</td>\n      <td>0</td>\n      <td>0</td>\n      <td>0</td>\n      <td>1</td>\n      <td>0</td>\n      <td>0</td>\n      <td>...</td>\n      <td>0</td>\n      <td>0</td>\n      <td>0</td>\n      <td>0</td>\n      <td>0</td>\n      <td>0</td>\n      <td>0</td>\n      <td>0</td>\n      <td>0</td>\n      <td>0</td>\n    </tr>\n    <tr>\n      <th>7</th>\n      <td>displayTask</td>\n      <td>0</td>\n      <td>0</td>\n      <td>1</td>\n      <td>0</td>\n      <td>1</td>\n      <td>0</td>\n      <td>0</td>\n      <td>0</td>\n      <td>0</td>\n      <td>...</td>\n      <td>0</td>\n      <td>0</td>\n      <td>0</td>\n      <td>0</td>\n      <td>0</td>\n      <td>0</td>\n      <td>0</td>\n      <td>0</td>\n      <td>0</td>\n      <td>0</td>\n    </tr>\n  </tbody>\n</table>\n<p>5 rows × 46 columns</p>\n</div>"
     },
     "metadata": {},
     "output_type": "execute_result",
     "execution_count": 9
    }
   ],
   "source": [
    "test"
   ],
   "metadata": {
    "collapsed": false,
    "pycharm": {
     "name": "#%%\n",
     "is_executing": false
    }
   }
  },
  {
   "cell_type": "code",
   "execution_count": 10,
   "outputs": [],
   "source": [
    "model.fit(df_vectorize.drop('label', axis=1), df_vectorize['label'])\n",
    "\n",
    "joblib.dump(model, './models/01_model.pkl')\n",
    "pickle._dump(c_vectorizer, open('./models/01_vectorizer.pkl', 'wb'))"
   ],
   "metadata": {
    "collapsed": false,
    "pycharm": {
     "name": "#%%\n",
     "is_executing": false
    }
   }
  },
  {
   "cell_type": "code",
   "execution_count": null,
   "outputs": [],
   "source": [
    "\n"
   ],
   "metadata": {
    "collapsed": false,
    "pycharm": {
     "name": "#%%\n"
    }
   }
  }
 ],
 "metadata": {
  "kernelspec": {
   "display_name": "Python 3",
   "language": "python",
   "name": "python3"
  },
  "language_info": {
   "codemirror_mode": {
    "name": "ipython",
    "version": 2
   },
   "file_extension": ".py",
   "mimetype": "text/x-python",
   "name": "python",
   "nbconvert_exporter": "python",
   "pygments_lexer": "ipython2",
   "version": "2.7.6"
  },
  "pycharm": {
   "stem_cell": {
    "cell_type": "raw",
    "source": [],
    "metadata": {
     "collapsed": false
    }
   }
  }
 },
 "nbformat": 4,
 "nbformat_minor": 0
}