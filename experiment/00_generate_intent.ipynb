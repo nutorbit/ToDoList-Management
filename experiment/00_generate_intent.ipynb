{
 "cells": [
  {
   "cell_type": "code",
   "execution_count": 1,
   "metadata": {
    "collapsed": true,
    "pycharm": {
     "is_executing": false
    }
   },
   "outputs": [],
   "source": [
    "import pandas as pd"
   ]
  },
  {
   "cell_type": "code",
   "execution_count": 2,
   "outputs": [],
   "source": [
    "intents = {\n",
    "    \"createTask\": [\n",
    "        \"มีงานต้องทำ\",\n",
    "        \"มีการบ้านต้องส่ง\",\n",
    "        \"มีงาน\",\n",
    "        \"เตือนหน่อย\",\n",
    "        \"ยังไม่ได้ทำ\",\n",
    "    ],\n",
    "    \"displayTask\": [\n",
    "        \"มีงานอะไรบ้าง\",\n",
    "        \"งานอะไรยังไม่ทำ\",\n",
    "        \"เหลืองานอะไรบ้าง\",\n",
    "        \"มีอะไรที่ยังไม่ได้ทำ\",\n",
    "        \"มีอะไรต้องทำ\",\n",
    "        \"เหลืออะไรบ้าง\",\n",
    "        \"งานมีอะไรบ้าง\",\n",
    "        \"เหลืออะไร\",\n",
    "    ],\n",
    "    \"remindTask\": [\n",
    "        \n",
    "    ],\n",
    "    \"clearTask\": [\n",
    "        \"งานเสร็จแล้ว\",\n",
    "        \"เสร็จแล้ว\",\n",
    "        \"เรียบร้อย\",\n",
    "        \"เสร็จละ\",\n",
    "        \"เสร็จ\",\n",
    "    ]\n",
    "}"
   ],
   "metadata": {
    "collapsed": false,
    "pycharm": {
     "name": "#%%\n",
     "is_executing": false
    }
   }
  },
  {
   "cell_type": "code",
   "execution_count": 3,
   "outputs": [],
   "source": [
    "data = []\n",
    "\n",
    "for key, val in intents.items():\n",
    "    for text in val:\n",
    "        data.append({\n",
    "            \"text\": text,\n",
    "            \"label\": key\n",
    "        })"
   ],
   "metadata": {
    "collapsed": false,
    "pycharm": {
     "name": "#%%\n",
     "is_executing": false
    }
   }
  },
  {
   "cell_type": "code",
   "execution_count": 4,
   "outputs": [
    {
     "data": {
      "text/plain": "               text       label\n0       มีงานต้องทำ  createTask\n1  มีการบ้านต้องส่ง  createTask\n2             มีงาน  createTask\n3        เตือนหน่อย  createTask\n4       ยังไม่ได้ทำ  createTask",
      "text/html": "<div>\n<style scoped>\n    .dataframe tbody tr th:only-of-type {\n        vertical-align: middle;\n    }\n\n    .dataframe tbody tr th {\n        vertical-align: top;\n    }\n\n    .dataframe thead th {\n        text-align: right;\n    }\n</style>\n<table border=\"1\" class=\"dataframe\">\n  <thead>\n    <tr style=\"text-align: right;\">\n      <th></th>\n      <th>text</th>\n      <th>label</th>\n    </tr>\n  </thead>\n  <tbody>\n    <tr>\n      <th>0</th>\n      <td>มีงานต้องทำ</td>\n      <td>createTask</td>\n    </tr>\n    <tr>\n      <th>1</th>\n      <td>มีการบ้านต้องส่ง</td>\n      <td>createTask</td>\n    </tr>\n    <tr>\n      <th>2</th>\n      <td>มีงาน</td>\n      <td>createTask</td>\n    </tr>\n    <tr>\n      <th>3</th>\n      <td>เตือนหน่อย</td>\n      <td>createTask</td>\n    </tr>\n    <tr>\n      <th>4</th>\n      <td>ยังไม่ได้ทำ</td>\n      <td>createTask</td>\n    </tr>\n  </tbody>\n</table>\n</div>"
     },
     "metadata": {},
     "output_type": "execute_result",
     "execution_count": 4
    }
   ],
   "source": [
    "df = pd.DataFrame(data)\n",
    "df.head()"
   ],
   "metadata": {
    "collapsed": false,
    "pycharm": {
     "name": "#%%\n",
     "is_executing": false
    }
   }
  },
  {
   "cell_type": "code",
   "execution_count": 5,
   "outputs": [],
   "source": [
    "df.to_csv('./data/00_intent.csv', index=False)"
   ],
   "metadata": {
    "collapsed": false,
    "pycharm": {
     "name": "#%%\n",
     "is_executing": false
    }
   }
  },
  {
   "cell_type": "code",
   "execution_count": null,
   "outputs": [],
   "source": [
    "\n"
   ],
   "metadata": {
    "collapsed": false,
    "pycharm": {
     "name": "#%%\n"
    }
   }
  }
 ],
 "metadata": {
  "kernelspec": {
   "display_name": "Python 3",
   "language": "python",
   "name": "python3"
  },
  "language_info": {
   "codemirror_mode": {
    "name": "ipython",
    "version": 2
   },
   "file_extension": ".py",
   "mimetype": "text/x-python",
   "name": "python",
   "nbconvert_exporter": "python",
   "pygments_lexer": "ipython2",
   "version": "2.7.6"
  },
  "pycharm": {
   "stem_cell": {
    "cell_type": "raw",
    "source": [],
    "metadata": {
     "collapsed": false
    }
   }
  }
 },
 "nbformat": 4,
 "nbformat_minor": 0
}