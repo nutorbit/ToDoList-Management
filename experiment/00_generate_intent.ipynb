{
 "cells": [
  {
   "cell_type": "code",
   "execution_count": 1,
   "metadata": {
    "pycharm": {
     "is_executing": false
    }
   },
   "outputs": [],
   "source": [
    "import pandas as pd"
   ]
  },
  {
   "cell_type": "code",
   "execution_count": 2,
   "metadata": {
    "pycharm": {
     "is_executing": false,
     "name": "#%%\n"
    }
   },
   "outputs": [],
   "source": [
    "intents = {\n",
    "    \"createTask\": [\n",
    "        \"มีงานต้องทำ\",\n",
    "        \"มีการบ้านต้องส่ง\",\n",
    "        \"มีงาน\",\n",
    "        \"เตือนหน่อย\",\n",
    "        \"เตือน\",\n",
    "        \"ต้องทำงาน\",\n",
    "        \"ต้องทำ\"\n",
    "        \"ยังไม่ได้ทำ\",\n",
    "    ],\n",
    "    \"displayTask\": [\n",
    "        \"มีงานอะไรบ้าง\",\n",
    "        \"งานอะไรยังไม่ทำ\",\n",
    "        \"เหลืองานอะไรบ้าง\",\n",
    "        \"มีอะไรที่ยังไม่ได้ทำ\",\n",
    "        \"มีอะไรต้องทำ\",\n",
    "        \"เหลืออะไรบ้าง\",\n",
    "        \"เหลือ\"\n",
    "        \"งานมีอะไรบ้าง\",\n",
    "        \"เหลืออะไร\",\n",
    "        \"มีงานอะไรต้องทำ\"\n",
    "    ]\n",
    "    \"clearTask\": [\n",
    "        \"งานเสร็จแล้ว\",\n",
    "        \"เสร็จแล้ว\",\n",
    "        \"เรียบร้อย\",\n",
    "        \"เสร็จละ\",\n",
    "        \"เสร็จ\",\n",
    "        \"หมดแล้ว\"\n",
    "    ]\n",
    "}"
   ]
  },
  {
   "cell_type": "code",
   "execution_count": 3,
   "metadata": {
    "collapsed": false,
    "jupyter": {
     "outputs_hidden": false
    },
    "pycharm": {
     "is_executing": false,
     "name": "#%%\n"
    }
   },
   "outputs": [],
   "source": [
    "data = []\n",
    "\n",
    "for key, val in intents.items():\n",
    "    for text in val:\n",
    "        data.append({\n",
    "            \"text\": text,\n",
    "            \"label\": key\n",
    "        })"
   ]
  },
  {
   "cell_type": "code",
   "execution_count": 4,
   "metadata": {
    "collapsed": false,
    "jupyter": {
     "outputs_hidden": false
    },
    "pycharm": {
     "is_executing": false,
     "name": "#%%\n"
    }
   },
   "outputs": [
    {
     "data": {
      "text/html": [
       "<div>\n",
       "<style scoped>\n",
       "    .dataframe tbody tr th:only-of-type {\n",
       "        vertical-align: middle;\n",
       "    }\n",
       "\n",
       "    .dataframe tbody tr th {\n",
       "        vertical-align: top;\n",
       "    }\n",
       "\n",
       "    .dataframe thead th {\n",
       "        text-align: right;\n",
       "    }\n",
       "</style>\n",
       "<table border=\"1\" class=\"dataframe\">\n",
       "  <thead>\n",
       "    <tr style=\"text-align: right;\">\n",
       "      <th></th>\n",
       "      <th>text</th>\n",
       "      <th>label</th>\n",
       "    </tr>\n",
       "  </thead>\n",
       "  <tbody>\n",
       "    <tr>\n",
       "      <th>0</th>\n",
       "      <td>มีงานต้องทำ</td>\n",
       "      <td>createTask</td>\n",
       "    </tr>\n",
       "    <tr>\n",
       "      <th>1</th>\n",
       "      <td>มีการบ้านต้องส่ง</td>\n",
       "      <td>createTask</td>\n",
       "    </tr>\n",
       "    <tr>\n",
       "      <th>2</th>\n",
       "      <td>มีงาน</td>\n",
       "      <td>createTask</td>\n",
       "    </tr>\n",
       "    <tr>\n",
       "      <th>3</th>\n",
       "      <td>เตือนหน่อย</td>\n",
       "      <td>createTask</td>\n",
       "    </tr>\n",
       "    <tr>\n",
       "      <th>4</th>\n",
       "      <td>เตือน</td>\n",
       "      <td>createTask</td>\n",
       "    </tr>\n",
       "  </tbody>\n",
       "</table>\n",
       "</div>"
      ],
      "text/plain": [
       "               text       label\n",
       "0       มีงานต้องทำ  createTask\n",
       "1  มีการบ้านต้องส่ง  createTask\n",
       "2             มีงาน  createTask\n",
       "3        เตือนหน่อย  createTask\n",
       "4             เตือน  createTask"
      ]
     },
     "execution_count": 4,
     "metadata": {},
     "output_type": "execute_result"
    }
   ],
   "source": [
    "df = pd.DataFrame(data)\n",
    "df.head()"
   ]
  },
  {
   "cell_type": "code",
   "execution_count": 5,
   "metadata": {
    "collapsed": false,
    "jupyter": {
     "outputs_hidden": false
    },
    "pycharm": {
     "is_executing": false,
     "name": "#%%\n"
    }
   },
   "outputs": [],
   "source": [
    "df.to_csv('./data/00_intent.csv', index=False)"
   ]
  },
  {
   "cell_type": "code",
   "execution_count": null,
   "metadata": {
    "collapsed": false,
    "jupyter": {
     "outputs_hidden": false
    },
    "pycharm": {
     "name": "#%%\n"
    }
   },
   "outputs": [],
   "source": [
    "\n"
   ]
  }
 ],
 "metadata": {
  "kernelspec": {
   "display_name": "Python 3",
   "language": "python",
   "name": "python3"
  },
  "language_info": {
   "codemirror_mode": {
    "name": "ipython",
    "version": 3
   },
   "file_extension": ".py",
   "mimetype": "text/x-python",
   "name": "python",
   "nbconvert_exporter": "python",
   "pygments_lexer": "ipython3",
   "version": "3.7.6"
  },
  "pycharm": {
   "stem_cell": {
    "cell_type": "raw",
    "metadata": {
     "collapsed": false
    },
    "source": []
   }
  }
 },
 "nbformat": 4,
 "nbformat_minor": 4
}
